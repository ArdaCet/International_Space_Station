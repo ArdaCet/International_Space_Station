{
  "nbformat": 4,
  "nbformat_minor": 0,
  "metadata": {
    "colab": {
      "name": "Whereis_ISS.ipynb",
      "provenance": [],
      "collapsed_sections": [],
      "authorship_tag": "ABX9TyMKra58J6LuBfI4IRGYUjRU"
    },
    "kernelspec": {
      "name": "python3",
      "display_name": "Python 3"
    }
  },
  "cells": [
    {
      "cell_type": "code",
      "metadata": {
        "id": "dLfWTNbmlylv"
      },
      "source": [
        "import time\r\n",
        "from IPython.display import clear_output\r\n",
        "import pandas as pd\r\n",
        "import plotly.express as plt"
      ],
      "execution_count": null,
      "outputs": []
    },
    {
      "cell_type": "code",
      "metadata": {
        "id": "EzjrAglE0R6C"
      },
      "source": [
        "def Whereis_ISS():\r\n",
        "\r\n",
        "  ISS_url = \"http://api.open-notify.org/iss-now.json\"\r\n",
        "\r\n",
        "  while True:\r\n",
        "\r\n",
        "    # Read Json file including ISS exact location.\r\n",
        "    readJson = pd.read_json(ISS_url)\r\n",
        "\r\n",
        "    readJson[\"Longtitude\"] = readJson.loc[\"longitude\", \"iss_position\"]\r\n",
        "    readJson[\"Latitude\"] = readJson.loc[\"latitude\", \"iss_position\"]\r\n",
        "\r\n",
        "    # Wrangling the dataframe.\r\n",
        "    readJson.reset_index(inplace=True)\r\n",
        "\r\n",
        "    readJson = readJson.drop([\"iss_position\", \"message\", \"index\"], axis = 1)\r\n",
        "\r\n",
        "    # To move columns within the dataframe.\r\n",
        "    ISS_df = readJson.reindex(columns=[\"Longtitude\", \"Latitude\", \"timestamp\"])\r\n",
        "    del readJson\r\n",
        "\r\n",
        "    # Plot ISS location on earth.\r\n",
        "    fig = plt.scatter_geo(data_frame = ISS_df, lat = \"Latitude\", lon = \"Longtitude\", labels = {\"Latitude\": \"X\", \"Longtitude\" : \"Y\"}, opacity = 0.9, \r\n",
        "                          color_discrete_sequence=plt.colors.qualitative.G10, title= \" The position of ISS at the earth's orbit\")\r\n",
        "    \r\n",
        "    fig = fig.update_geos(lataxis_showgrid=True, lonaxis_showgrid=True, showcountries=True)\r\n",
        "  \r\n",
        "    ISS_geo = fig.show()\r\n",
        "\r\n",
        "    # Clear out the output page to have animated like plot.\r\n",
        "    time.sleep(5)\r\n",
        "\r\n",
        "    clear_output(wait=True)\r\n",
        "    print(ISS_geo, flush=True)"
      ],
      "execution_count": null,
      "outputs": []
    },
    {
      "cell_type": "code",
      "metadata": {
        "id": "wUoE36vIwXig"
      },
      "source": [
        "# Call Method Whereis_ISS.\r\n",
        "Whereis_ISS()"
      ],
      "execution_count": null,
      "outputs": []
    }
  ]
}